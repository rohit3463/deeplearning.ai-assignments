{
 "cells": [
  {
   "cell_type": "markdown",
   "metadata": {},
   "source": [
    "# Convolution"
   ]
  },
  {
   "cell_type": "markdown",
   "metadata": {},
   "source": [
    "https://www.coursera.org/learn/convolutional-neural-networks/lecture/4Trod/edge-detection-example"
   ]
  },
  {
   "cell_type": "code",
   "execution_count": 1,
   "metadata": {
    "collapsed": true
   },
   "outputs": [],
   "source": [
    "import numpy as np\n",
    "np.random.seed(0)"
   ]
  },
  {
   "cell_type": "code",
   "execution_count": 2,
   "metadata": {
    "collapsed": true
   },
   "outputs": [],
   "source": [
    "image = np.random.randint(0, 10, size=(6, 6))"
   ]
  },
  {
   "cell_type": "code",
   "execution_count": 3,
   "metadata": {
    "collapsed": false
   },
   "outputs": [
    {
     "data": {
      "text/plain": [
       "array([[5, 0, 3, 3, 7, 9],\n",
       "       [3, 5, 2, 4, 7, 6],\n",
       "       [8, 8, 1, 6, 7, 7],\n",
       "       [8, 1, 5, 9, 8, 9],\n",
       "       [4, 3, 0, 3, 5, 0],\n",
       "       [2, 3, 8, 1, 3, 3]])"
      ]
     },
     "execution_count": 3,
     "metadata": {},
     "output_type": "execute_result"
    }
   ],
   "source": [
    "image"
   ]
  },
  {
   "cell_type": "code",
   "execution_count": 4,
   "metadata": {
    "collapsed": true
   },
   "outputs": [],
   "source": [
    "# Vertical edge detection\n",
    "kernel = np.array([[1, 0, -1], [1, 0, -1], [1, 0, -1]])"
   ]
  },
  {
   "cell_type": "code",
   "execution_count": 5,
   "metadata": {
    "collapsed": false
   },
   "outputs": [
    {
     "data": {
      "text/plain": [
       "array([[ 1,  0, -1],\n",
       "       [ 1,  0, -1],\n",
       "       [ 1,  0, -1]])"
      ]
     },
     "execution_count": 5,
     "metadata": {},
     "output_type": "execute_result"
    }
   ],
   "source": [
    "kernel"
   ]
  },
  {
   "cell_type": "code",
   "execution_count": 6,
   "metadata": {
    "collapsed": false
   },
   "outputs": [],
   "source": [
    "from scipy.signal import convolve"
   ]
  },
  {
   "cell_type": "code",
   "execution_count": 7,
   "metadata": {
    "collapsed": false
   },
   "outputs": [
    {
     "data": {
      "text/plain": [
       "array([[ 10,   0, -15,  -9],\n",
       "       [ 11,  -5, -14,  -3],\n",
       "       [ 14,  -6, -14,   2],\n",
       "       [  1,  -6,  -3,   1]])"
      ]
     },
     "execution_count": 7,
     "metadata": {},
     "output_type": "execute_result"
    }
   ],
   "source": [
    "# Negate the kernel\n",
    "kernel_flipped = np.negative(kernel)\n",
    "convolve(image, kernel_flipped, 'valid')"
   ]
  },
  {
   "cell_type": "code",
   "execution_count": 8,
   "metadata": {
    "collapsed": true
   },
   "outputs": [],
   "source": [
    "image_example = np.array([\n",
    "    [3, 0, 1, 2, 7, 4],\n",
    "    [1, 5, 8, 9, 3, 1],\n",
    "    [2, 7, 2, 5, 1, 3],\n",
    "    [0, 1, 3, 1, 7, 8],\n",
    "    [4, 2, 1, 6, 2, 8],\n",
    "    [2, 4, 5, 2, 3, 9]\n",
    "])"
   ]
  },
  {
   "cell_type": "code",
   "execution_count": 9,
   "metadata": {
    "collapsed": false
   },
   "outputs": [
    {
     "data": {
      "text/plain": [
       "array([[ -5,  -4,   0,   8],\n",
       "       [-10,  -2,   2,   3],\n",
       "       [  0,  -2,  -4,  -7],\n",
       "       [ -3,  -2,  -3, -16]])"
      ]
     },
     "execution_count": 9,
     "metadata": {},
     "output_type": "execute_result"
    }
   ],
   "source": [
    "# Kernel is negated?\n",
    "kernel_flipped = np.negative(kernel)\n",
    "convolve(image_example, kernel_flipped, mode='valid')"
   ]
  },
  {
   "cell_type": "markdown",
   "metadata": {},
   "source": [
    "### Naive implementation"
   ]
  },
  {
   "cell_type": "code",
   "execution_count": 10,
   "metadata": {
    "collapsed": true
   },
   "outputs": [],
   "source": [
    "def convolution_naive(image, kernel):\n",
    "    output = np.zeros((image.shape[0] - kernel.shape[0] + 1,\n",
    "                       image.shape[1] - kernel.shape[1] + 1))\n",
    "\n",
    "    # walk over output rows\n",
    "    for i in range(output.shape[0]):\n",
    "        # walk over output columns\n",
    "        for j in range(output.shape[1]):\n",
    "            # walk over filter/kernel rows\n",
    "            for k in range(kernel.shape[0]):\n",
    "                # walk over filter/kernel columns\n",
    "                for l in range(kernel.shape[1]):\n",
    "                    image_x = i + k\n",
    "                    image_y = j + l\n",
    "                    output[i, j] += image[image_x, image_y] * kernel[k, l]\n",
    "    \n",
    "    return output"
   ]
  },
  {
   "cell_type": "code",
   "execution_count": 11,
   "metadata": {
    "collapsed": false
   },
   "outputs": [
    {
     "data": {
      "text/plain": [
       "array([[ 10.,   0., -15.,  -9.],\n",
       "       [ 11.,  -5., -14.,  -3.],\n",
       "       [ 14.,  -6., -14.,   2.],\n",
       "       [  1.,  -6.,  -3.,   1.]])"
      ]
     },
     "execution_count": 11,
     "metadata": {},
     "output_type": "execute_result"
    }
   ],
   "source": [
    "convolution_naive(image, kernel)"
   ]
  },
  {
   "cell_type": "code",
   "execution_count": 12,
   "metadata": {
    "collapsed": false
   },
   "outputs": [
    {
     "data": {
      "text/plain": [
       "array([[ -5.,  -4.,   0.,   8.],\n",
       "       [-10.,  -2.,   2.,   3.],\n",
       "       [  0.,  -2.,  -4.,  -7.],\n",
       "       [ -3.,  -2.,  -3., -16.]])"
      ]
     },
     "execution_count": 12,
     "metadata": {},
     "output_type": "execute_result"
    }
   ],
   "source": [
    "convolution_naive(image_example, kernel)"
   ]
  },
  {
   "cell_type": "markdown",
   "metadata": {},
   "source": [
    "#### Tests the implementation"
   ]
  },
  {
   "cell_type": "code",
   "execution_count": 29,
   "metadata": {
    "collapsed": false
   },
   "outputs": [
    {
     "name": "stdout",
     "output_type": "stream",
     "text": [
      "All tests passed\n"
     ]
    }
   ],
   "source": [
    "for _ in range(1000):\n",
    "    shape = np.random.randint(5, 20, (1, 2))\n",
    "    image_test = np.random.randint(1, 10, shape[0])\n",
    "    actual = convolution_naive(image_test, kernel)\n",
    "    expected = convolve(image_test, kernel_flipped, mode='valid')\n",
    "    np.testing.assert_equal(actual, expected)\n",
    "\n",
    "print('All tests passed')"
   ]
  },
  {
   "cell_type": "markdown",
   "metadata": {},
   "source": [
    "### Vertical edge detection"
   ]
  },
  {
   "cell_type": "code",
   "execution_count": 30,
   "metadata": {
    "collapsed": false
   },
   "outputs": [
    {
     "data": {
      "text/plain": [
       "array([[ 10.,  10.,  10.,   0.,   0.,   0.],\n",
       "       [ 10.,  10.,  10.,   0.,   0.,   0.],\n",
       "       [ 10.,  10.,  10.,   0.,   0.,   0.],\n",
       "       [ 10.,  10.,  10.,   0.,   0.,   0.],\n",
       "       [ 10.,  10.,  10.,   0.,   0.,   0.],\n",
       "       [ 10.,  10.,  10.,   0.,   0.,   0.]])"
      ]
     },
     "execution_count": 30,
     "metadata": {},
     "output_type": "execute_result"
    }
   ],
   "source": [
    "image = np.zeros((6, 6))\n",
    "image[:, 0:3] = 10\n",
    "image"
   ]
  },
  {
   "cell_type": "code",
   "execution_count": 31,
   "metadata": {
    "collapsed": false
   },
   "outputs": [
    {
     "data": {
      "text/plain": [
       "array([[  0.,  30.,  30.,   0.],\n",
       "       [  0.,  30.,  30.,   0.],\n",
       "       [  0.,  30.,  30.,   0.],\n",
       "       [  0.,  30.,  30.,   0.]])"
      ]
     },
     "execution_count": 31,
     "metadata": {},
     "output_type": "execute_result"
    }
   ],
   "source": [
    "convolution_naive(image, kernel)"
   ]
  },
  {
   "cell_type": "markdown",
   "metadata": {},
   "source": [
    "### Horizontal edge detection"
   ]
  },
  {
   "cell_type": "code",
   "execution_count": 33,
   "metadata": {
    "collapsed": false
   },
   "outputs": [
    {
     "data": {
      "text/plain": [
       "array([[ 1,  1,  1],\n",
       "       [ 0,  0,  0],\n",
       "       [-1, -1, -1]])"
      ]
     },
     "execution_count": 33,
     "metadata": {},
     "output_type": "execute_result"
    }
   ],
   "source": [
    "kernel_horizontal = np.array([[1, 1, 1], [0, 0, 0], [-1, -1, -1]])\n",
    "kernel_horizontal"
   ]
  },
  {
   "cell_type": "code",
   "execution_count": 34,
   "metadata": {
    "collapsed": true
   },
   "outputs": [],
   "source": [
    "image = np.array([\n",
    "    [10, 10, 10, 0, 0, 0],\n",
    "    [10, 10, 10, 0, 0, 0],\n",
    "    [10, 10, 10, 0, 0, 0],\n",
    "    [0, 0, 0, 10, 10, 10],\n",
    "    [0, 0, 0, 10, 10, 10],\n",
    "    [0, 0, 0, 10, 10, 10],\n",
    "])"
   ]
  },
  {
   "cell_type": "code",
   "execution_count": 36,
   "metadata": {
    "collapsed": false
   },
   "outputs": [
    {
     "data": {
      "text/plain": [
       "array([[  0.,   0.,   0.,   0.],\n",
       "       [ 30.,  10., -10., -30.],\n",
       "       [ 30.,  10., -10., -30.],\n",
       "       [  0.,   0.,   0.,   0.]])"
      ]
     },
     "execution_count": 36,
     "metadata": {},
     "output_type": "execute_result"
    }
   ],
   "source": [
    "convolution_naive(image, kernel_horizontal)"
   ]
  },
  {
   "cell_type": "code",
   "execution_count": 37,
   "metadata": {
    "collapsed": false
   },
   "outputs": [
    {
     "data": {
      "text/plain": [
       "array([[  0.,  30.,  30.,   0.],\n",
       "       [  0.,  10.,  10.,   0.],\n",
       "       [  0., -10., -10.,   0.],\n",
       "       [  0., -30., -30.,   0.]])"
      ]
     },
     "execution_count": 37,
     "metadata": {},
     "output_type": "execute_result"
    }
   ],
   "source": [
    "convolution_naive(image, kernel)"
   ]
  },
  {
   "cell_type": "markdown",
   "metadata": {},
   "source": [
    "#### Sobel filter"
   ]
  },
  {
   "cell_type": "code",
   "execution_count": 38,
   "metadata": {
    "collapsed": false
   },
   "outputs": [
    {
     "data": {
      "text/plain": [
       "array([[ 1,  0, -1],\n",
       "       [ 2,  0, -2],\n",
       "       [ 1,  0, -1]])"
      ]
     },
     "execution_count": 38,
     "metadata": {},
     "output_type": "execute_result"
    }
   ],
   "source": [
    "kernel_sobel = np.array([[1, 0, -1], [2, 0, -2], [1, 0, -1]])\n",
    "kernel_sobel"
   ]
  },
  {
   "cell_type": "markdown",
   "metadata": {},
   "source": [
    "### Padding"
   ]
  },
  {
   "cell_type": "markdown",
   "metadata": {},
   "source": [
    "output size = n + 2 * p - f + 1\n",
    "n: "
   ]
  },
  {
   "cell_type": "markdown",
   "metadata": {},
   "source": [
    "#### same padding"
   ]
  },
  {
   "cell_type": "code",
   "execution_count": 39,
   "metadata": {
    "collapsed": true
   },
   "outputs": [],
   "source": [
    "def padding_for_same(filter_size):\n",
    "    return (filter_size - 1) / 2"
   ]
  },
  {
   "cell_type": "code",
   "execution_count": 40,
   "metadata": {
    "collapsed": false
   },
   "outputs": [
    {
     "data": {
      "text/plain": [
       "1.0"
      ]
     },
     "execution_count": 40,
     "metadata": {},
     "output_type": "execute_result"
    }
   ],
   "source": [
    "padding_for_same(3)"
   ]
  },
  {
   "cell_type": "code",
   "execution_count": 41,
   "metadata": {
    "collapsed": false
   },
   "outputs": [
    {
     "data": {
      "text/plain": [
       "1.5"
      ]
     },
     "execution_count": 41,
     "metadata": {},
     "output_type": "execute_result"
    }
   ],
   "source": [
    "# even-shaped filters are problematic\n",
    "# odd-shaped is the convention\n",
    "padding_for_same(4)"
   ]
  },
  {
   "cell_type": "markdown",
   "metadata": {},
   "source": [
    "### Strided convolutions"
   ]
  },
  {
   "cell_type": "code",
   "execution_count": 74,
   "metadata": {
    "collapsed": true
   },
   "outputs": [],
   "source": [
    "def convolution_strided_naive(image, kernel, stride):\n",
    "    output_x = int((image.shape[0] - kernel.shape[0]) / stride + 1) \n",
    "    output_y = int((image.shape[1] - kernel.shape[1]) / stride + 1)\n",
    "    output = np.zeros((output_x, output_y))\n",
    "\n",
    "    # walk over output rows\n",
    "    for i in range(output.shape[0]):\n",
    "        # walk over output columns\n",
    "        for j in range(output.shape[1]):\n",
    "            # walk over filter/kernel rows\n",
    "            for k in range(kernel.shape[0]):\n",
    "                # walk over filter/kernel columns\n",
    "                for l in range(kernel.shape[1]):\n",
    "                    image_x = i * stride + k\n",
    "                    image_y = j * stride + l\n",
    "                    output[i, j] += image[image_x, image_y] * kernel[k, l]\n",
    "    \n",
    "    return output"
   ]
  },
  {
   "cell_type": "code",
   "execution_count": 75,
   "metadata": {
    "collapsed": true
   },
   "outputs": [],
   "source": [
    "image = np.array([\n",
    "    [2, 3, 7, 4, 6, 2, 9],\n",
    "    [6, 6, 9, 8, 7, 4, 3],\n",
    "    [3, 4, 8, 3, 8, 9, 7],\n",
    "    [7, 8, 3, 6, 6, 3, 4],\n",
    "    [4, 2, 1, 8, 3, 4, 6],\n",
    "    [3, 2, 4, 1, 9, 8, 3],\n",
    "    [0, 1, 3, 9, 2, 1, 4]\n",
    "])"
   ]
  },
  {
   "cell_type": "code",
   "execution_count": 76,
   "metadata": {
    "collapsed": true
   },
   "outputs": [],
   "source": [
    "kernel = np.array([[3, 4, 4], [1, 0, 2], [-1, 0, 3]])"
   ]
  },
  {
   "cell_type": "code",
   "execution_count": 77,
   "metadata": {
    "collapsed": false
   },
   "outputs": [
    {
     "data": {
      "text/plain": [
       "array([[  91.,  100.,   88.],\n",
       "       [  69.,   91.,  117.],\n",
       "       [  44.,   72.,   74.]])"
      ]
     },
     "execution_count": 77,
     "metadata": {},
     "output_type": "execute_result"
    }
   ],
   "source": [
    "convolution_strided_naive(image, kernel, stride=2)"
   ]
  },
  {
   "cell_type": "markdown",
   "metadata": {},
   "source": [
    "### Flipping the kernel\n",
    "⚠ What we've done so far is technically called cross-correlation and not convolution. So what's really done in most of deep learning literature is actually cross-correlation and not convolution.\n",
    "\n",
    "https://www.coursera.org/learn/convolutional-neural-networks/lecture/wfUhx/strided-convolutions"
   ]
  },
  {
   "cell_type": "code",
   "execution_count": null,
   "metadata": {
    "collapsed": true
   },
   "outputs": [],
   "source": [
    "def mirror(x):\n",
    "    return np.flipud(np.fliplr(kernel)).T"
   ]
  },
  {
   "cell_type": "code",
   "execution_count": 129,
   "metadata": {
    "collapsed": true
   },
   "outputs": [],
   "source": [
    "kernel = np.array([\n",
    "    [3, 4, 5],\n",
    "    [1, 0, 2],\n",
    "    [-1, 9, 7]\n",
    "])"
   ]
  },
  {
   "cell_type": "code",
   "execution_count": 130,
   "metadata": {
    "collapsed": false
   },
   "outputs": [
    {
     "data": {
      "text/plain": [
       "array([[ 7,  2,  5],\n",
       "       [ 9,  0,  4],\n",
       "       [-1,  1,  3]])"
      ]
     },
     "execution_count": 130,
     "metadata": {},
     "output_type": "execute_result"
    }
   ],
   "source": [
    "mirror(kernel)"
   ]
  },
  {
   "cell_type": "markdown",
   "metadata": {},
   "source": [
    "The reason this is done in signal processing and some branches of math is that we get associativity properties which is lost with our previous notation. However deep learners do not care about associativity (keeps code simple and achieves the same result)."
   ]
  },
  {
   "cell_type": "markdown",
   "metadata": {},
   "source": [
    "### Convolution over volumes\n",
    "\n",
    "https://www.coursera.org/learn/convolutional-neural-networks/lecture/ctQZz/convolutions-over-volume"
   ]
  },
  {
   "cell_type": "code",
   "execution_count": 138,
   "metadata": {
    "collapsed": true
   },
   "outputs": [],
   "source": [
    "def convolution_3d_naive(image, kernel):\n",
    "    assert image.ndim == 3, \"we're 3d now bro\"\n",
    "    assert kernel.ndim == 3, \"we're 3d now bro\"\n",
    "    \n",
    "    output = np.zeros((image.shape[0] - kernel.shape[0] + 1,\n",
    "                       image.shape[1] - kernel.shape[1] + 1))\n",
    "\n",
    "    # walk over output rows\n",
    "    for i in range(output.shape[0]):\n",
    "        # walk over output columns\n",
    "        for j in range(output.shape[1]):\n",
    "            # walk over filter/kernel rows\n",
    "            for k in range(kernel.shape[0]):\n",
    "                # walk over filter/kernel columns\n",
    "                for l in range(kernel.shape[1]):\n",
    "                    # walk over filter channels/depth\n",
    "                    for m in range(kernel.shape[2]):\n",
    "                        image_x = i + k\n",
    "                        image_y = j + l\n",
    "                        value_from_image = image[image_x, image_y, m]\n",
    "                        output[i, j] += value_from_image * kernel[k, l, m]\n",
    "    \n",
    "    return output"
   ]
  },
  {
   "cell_type": "code",
   "execution_count": 139,
   "metadata": {
    "collapsed": true
   },
   "outputs": [],
   "source": [
    "image = np.random.randint(1, 10, (6, 6, 3))\n",
    "kernel = np.random.randint(1, 10, (3, 3, 3))"
   ]
  },
  {
   "cell_type": "code",
   "execution_count": 141,
   "metadata": {
    "collapsed": false
   },
   "outputs": [
    {
     "data": {
      "text/plain": [
       "array([[ 674.,  653.,  656.,  662.],\n",
       "       [ 516.,  604.,  617.,  695.],\n",
       "       [ 623.,  493.,  581.,  621.],\n",
       "       [ 637.,  588.,  593.,  521.]])"
      ]
     },
     "execution_count": 141,
     "metadata": {},
     "output_type": "execute_result"
    }
   ],
   "source": [
    "convolution_3d_naive(image, kernel)"
   ]
  }
 ],
 "metadata": {
  "anaconda-cloud": {},
  "kernelspec": {
   "display_name": "Python [default]",
   "language": "python",
   "name": "python3"
  },
  "language_info": {
   "codemirror_mode": {
    "name": "ipython",
    "version": 3
   },
   "file_extension": ".py",
   "mimetype": "text/x-python",
   "name": "python",
   "nbconvert_exporter": "python",
   "pygments_lexer": "ipython3",
   "version": "3.5.4"
  }
 },
 "nbformat": 4,
 "nbformat_minor": 2
}
